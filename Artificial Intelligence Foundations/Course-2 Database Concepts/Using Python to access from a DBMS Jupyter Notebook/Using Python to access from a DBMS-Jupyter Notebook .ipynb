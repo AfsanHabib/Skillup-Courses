{
 "cells": [
  {
   "cell_type": "markdown",
   "metadata": {},
   "source": [
    "## The intent of this exercise is to show you the Big Data Pipeline\n",
    "\n",
    "We are going to obtain data from resources on the web, clean the data, visualize the data and then store the data in CSV format which can then be loaded on cloud or a database.\n",
    "\n",
    "Our intent to obtain the information on current GDP of countries and the population statistics of the countries. These details are available from www.worldometers.info. But they are available as two different set of information. We are going to access the data from the two sets, clean them and put them together. \n",
    "\n",
    "#### Install required packages"
   ]
  },
  {
   "cell_type": "code",
   "execution_count": 1,
   "metadata": {},
   "outputs": [
    {
     "name": "stdout",
     "output_type": "stream",
     "text": [
      "Requirement already satisfied: requests in c:\\anaconda3\\lib\\site-packages (2.24.0)\n",
      "Requirement already satisfied: urllib3!=1.25.0,!=1.25.1,<1.26,>=1.21.1 in c:\\anaconda3\\lib\\site-packages (from requests) (1.25.9)\n",
      "Requirement already satisfied: idna<3,>=2.5 in c:\\anaconda3\\lib\\site-packages (from requests) (2.10)\n",
      "Requirement already satisfied: certifi>=2017.4.17 in c:\\anaconda3\\lib\\site-packages (from requests) (2020.6.20)\n",
      "Requirement already satisfied: chardet<4,>=3.0.2 in c:\\anaconda3\\lib\\site-packages (from requests) (3.0.4)\n",
      "Requirement already satisfied: beautifulsoup4 in c:\\anaconda3\\lib\\site-packages (4.9.1)\n",
      "Requirement already satisfied: soupsieve>1.2 in c:\\anaconda3\\lib\\site-packages (from beautifulsoup4) (2.0.1)\n"
     ]
    }
   ],
   "source": [
    "!pip install requests\n",
    "!pip install beautifulsoup4"
   ]
  },
  {
   "cell_type": "markdown",
   "metadata": {},
   "source": [
    "#### Import the packages required for this exercise"
   ]
  },
  {
   "cell_type": "code",
   "execution_count": 2,
   "metadata": {},
   "outputs": [],
   "source": [
    "import pandas as pd\n",
    "from IPython.core.display import HTML\n",
    "import requests\n",
    "from bs4 import BeautifulSoup\n",
    "import bs4\n",
    "import json\n",
    "from datetime import date"
   ]
  },
  {
   "cell_type": "markdown",
   "metadata": {},
   "source": [
    "#### From the remote URL https://www.worldometers.info/gdp/gdp-per-capita/ read the GDP data we require. requests.get(URL) gets the entire content of a remote URL as a string. Visit the URL on your browser to familiarise the data. "
   ]
  },
  {
   "cell_type": "code",
   "execution_count": 3,
   "metadata": {},
   "outputs": [],
   "source": [
    "\n",
    "URL=\"https://www.worldometers.info/gdp/gdp-per-capita/\"\n",
    "page = requests.get(URL)\n",
    "soup = BeautifulSoup(page.content, 'html.parser')\n",
    "stats_tbl = soup.find(\"table\")\n"
   ]
  },
  {
   "cell_type": "markdown",
   "metadata": {},
   "source": [
    "#### Parse the string data to only extract the information we require"
   ]
  },
  {
   "cell_type": "code",
   "execution_count": 4,
   "metadata": {},
   "outputs": [],
   "source": [
    "\n",
    "def parse_table(tbl,cols):\n",
    "    rows = []\n",
    "    trows = tbl.find_all(\"tr\")\n",
    "    for tr in trows[1:]:\n",
    "        row = []\n",
    "        for td in tr.children:\n",
    "            if isinstance(td,bs4.element.Tag):\n",
    "                for data in td.children:\n",
    "                    if isinstance(data,bs4.element.Tag):\n",
    "                        for innerHTML in data.children:\n",
    "                            row.append(innerHTML)\n",
    "                    else:\n",
    "                        row.append(data)\n",
    "        rows.append(row)\n",
    "    \n",
    "    return pd.DataFrame(rows,columns=cols)\n",
    "\n",
    "df = parse_table(stats_tbl,[\"Ranking\",\"Country\",\"GDP (PPP) per capita\",\"GDP (nominal) per capita\",\"vs. World PPP GDP per capita\"])\n"
   ]
  },
  {
   "cell_type": "markdown",
   "metadata": {},
   "source": [
    "#### Print the head of the dataframe object to see what the data collected looks like"
   ]
  },
  {
   "cell_type": "code",
   "execution_count": 5,
   "metadata": {},
   "outputs": [
    {
     "data": {
      "text/html": [
       "<div>\n",
       "<style scoped>\n",
       "    .dataframe tbody tr th:only-of-type {\n",
       "        vertical-align: middle;\n",
       "    }\n",
       "\n",
       "    .dataframe tbody tr th {\n",
       "        vertical-align: top;\n",
       "    }\n",
       "\n",
       "    .dataframe thead th {\n",
       "        text-align: right;\n",
       "    }\n",
       "</style>\n",
       "<table border=\"1\" class=\"dataframe\">\n",
       "  <thead>\n",
       "    <tr style=\"text-align: right;\">\n",
       "      <th></th>\n",
       "      <th>Ranking</th>\n",
       "      <th>Country</th>\n",
       "      <th>GDP (PPP) per capita</th>\n",
       "      <th>GDP (nominal) per capita</th>\n",
       "      <th>vs. World PPP GDP per capita</th>\n",
       "    </tr>\n",
       "  </thead>\n",
       "  <tbody>\n",
       "    <tr>\n",
       "      <th>0</th>\n",
       "      <td>1</td>\n",
       "      <td>Qatar</td>\n",
       "      <td>$128,647</td>\n",
       "      <td>$61,264</td>\n",
       "      <td>752%</td>\n",
       "    </tr>\n",
       "    <tr>\n",
       "      <th>1</th>\n",
       "      <td>2</td>\n",
       "      <td>Macao</td>\n",
       "      <td>$115,367</td>\n",
       "      <td>$80,890</td>\n",
       "      <td>675%</td>\n",
       "    </tr>\n",
       "    <tr>\n",
       "      <th>2</th>\n",
       "      <td>3</td>\n",
       "      <td>Luxembourg</td>\n",
       "      <td>$107,641</td>\n",
       "      <td>$105,280</td>\n",
       "      <td>629%</td>\n",
       "    </tr>\n",
       "    <tr>\n",
       "      <th>3</th>\n",
       "      <td>4</td>\n",
       "      <td>Singapore</td>\n",
       "      <td>$94,105</td>\n",
       "      <td>$56,746</td>\n",
       "      <td>550%</td>\n",
       "    </tr>\n",
       "    <tr>\n",
       "      <th>4</th>\n",
       "      <td>5</td>\n",
       "      <td>Brunei</td>\n",
       "      <td>$79,003</td>\n",
       "      <td>$28,572</td>\n",
       "      <td>462%</td>\n",
       "    </tr>\n",
       "  </tbody>\n",
       "</table>\n",
       "</div>"
      ],
      "text/plain": [
       "  Ranking     Country GDP (PPP) per capita GDP (nominal) per capita  \\\n",
       "0       1       Qatar            $128,647                   $61,264   \n",
       "1       2       Macao            $115,367                   $80,890   \n",
       "2       3  Luxembourg            $107,641                  $105,280   \n",
       "3       4   Singapore             $94,105                   $56,746   \n",
       "4       5     Brunei              $79,003                   $28,572   \n",
       "\n",
       "  vs. World PPP GDP per capita  \n",
       "0                        752%   \n",
       "1                        675%   \n",
       "2                        629%   \n",
       "3                        550%   \n",
       "4                        462%   "
      ]
     },
     "execution_count": 5,
     "metadata": {},
     "output_type": "execute_result"
    }
   ],
   "source": [
    "df.head()"
   ]
  },
  {
   "cell_type": "markdown",
   "metadata": {},
   "source": [
    "#### Clean and Process the data to suit our purpose"
   ]
  },
  {
   "cell_type": "code",
   "execution_count": 6,
   "metadata": {},
   "outputs": [],
   "source": [
    "# The data is present with $ sign and ,. This needs to be converted to numeric data\n",
    "df['GDP (PPP) per capita'] = df['GDP (PPP) per capita'].str.replace(\"$\",\"\")\n",
    "df['GDP (PPP) per capita'] = df['GDP (PPP) per capita'].str.replace(\",\",\"\")\n",
    "df['GDP (PPP) per capita'] = df['GDP (PPP) per capita'].str.replace(\"N.A.\",\"0\")\n",
    "df['GDP (PPP) per capita'] = df['GDP (PPP) per capita'].astype(int)\n",
    "\n",
    "\n",
    "\n"
   ]
  },
  {
   "cell_type": "code",
   "execution_count": 7,
   "metadata": {},
   "outputs": [],
   "source": [
    "df['GDP (nominal) per capita'] = df['GDP (nominal) per capita'].str.replace(\"$\",\"\")\n",
    "df['GDP (nominal) per capita'] = df['GDP (nominal) per capita'].str.replace(\",\",\"\")\n",
    "df['GDP (nominal) per capita'] = df['GDP (nominal) per capita'].str.replace(\"N.A.\",\"0\")\n",
    "df['GDP (nominal) per capita'] = df['GDP (nominal) per capita'].astype(int)\n",
    "\n"
   ]
  },
  {
   "cell_type": "markdown",
   "metadata": {},
   "source": [
    "#### Visualize the data"
   ]
  },
  {
   "cell_type": "code",
   "execution_count": 8,
   "metadata": {},
   "outputs": [
    {
     "data": {
      "image/png": "[encoded data removed]",
      "text/plain": [
       "<Figure size 720x360 with 1 Axes>"
      ]
     },
     "metadata": {
      "needs_background": "light"
     },
     "output_type": "display_data"
    }
   ],
   "source": [
    "import matplotlib.pyplot as plt\n",
    "import seaborn as sns\n",
    "\n",
    "gdps = df['GDP (PPP) per capita'][0:20]\n",
    "countries = df['Country'][0:20]\n",
    "\n",
    "plt.figure(figsize=(10,5))\n",
    "plot = sns.barplot(countries, gdps)\n",
    "\n",
    "plot.set_xticklabels(countries, rotation=90)\n",
    "\n",
    "plt.show()"
   ]
  },
  {
   "cell_type": "markdown",
   "metadata": {},
   "source": [
    "#### Obtain the information on population. Just as we did earlier, we obtain the information from http://worldometers.info/world-population. Feel free to visit the URL and familiarise yourself with the data."
   ]
  },
  {
   "cell_type": "code",
   "execution_count": 9,
   "metadata": {},
   "outputs": [],
   "source": [
    "URL=\"http://worldometers.info/world-population\"\n",
    "page = requests.get(URL)\n",
    "soup = BeautifulSoup(page.content, 'html.parser')\n",
    "stats_tbl = soup.find(id=\"popbycountry\")\n"
   ]
  },
  {
   "cell_type": "markdown",
   "metadata": {},
   "source": [
    "#### Parse the data and generate a dataframe from the data available in the link"
   ]
  },
  {
   "cell_type": "code",
   "execution_count": 10,
   "metadata": {},
   "outputs": [],
   "source": [
    "df2 = parse_table(stats_tbl,[\"Pop Rank\",\"Country\",\"Population 2020\",\"Yearly Change\",\"Net Change\", \"People per KMSq\",\"Land Area\",\"Migrants\",\"Fertility Rate\",\"Median Age\",\"Urban Population\",\"World Share\"])\n"
   ]
  },
  {
   "cell_type": "markdown",
   "metadata": {},
   "source": [
    "#### See the newly created dataframe"
   ]
  },
  {
   "cell_type": "code",
   "execution_count": 11,
   "metadata": {},
   "outputs": [
    {
     "data": {
      "text/html": [
       "<div>\n",
       "<style scoped>\n",
       "    .dataframe tbody tr th:only-of-type {\n",
       "        vertical-align: middle;\n",
       "    }\n",
       "\n",
       "    .dataframe tbody tr th {\n",
       "        vertical-align: top;\n",
       "    }\n",
       "\n",
       "    .dataframe thead th {\n",
       "        text-align: right;\n",
       "    }\n",
       "</style>\n",
       "<table border=\"1\" class=\"dataframe\">\n",
       "  <thead>\n",
       "    <tr style=\"text-align: right;\">\n",
       "      <th></th>\n",
       "      <th>Pop Rank</th>\n",
       "      <th>Country</th>\n",
       "      <th>Population 2020</th>\n",
       "      <th>Yearly Change</th>\n",
       "      <th>Net Change</th>\n",
       "      <th>People per KMSq</th>\n",
       "      <th>Land Area</th>\n",
       "      <th>Migrants</th>\n",
       "      <th>Fertility Rate</th>\n",
       "      <th>Median Age</th>\n",
       "      <th>Urban Population</th>\n",
       "      <th>World Share</th>\n",
       "    </tr>\n",
       "  </thead>\n",
       "  <tbody>\n",
       "    <tr>\n",
       "      <th>0</th>\n",
       "      <td>1</td>\n",
       "      <td>China</td>\n",
       "      <td>1,439,323,776</td>\n",
       "      <td>0.39 %</td>\n",
       "      <td>5,540,090</td>\n",
       "      <td>153</td>\n",
       "      <td>9,388,211</td>\n",
       "      <td>-348,399</td>\n",
       "      <td>1.69</td>\n",
       "      <td>38</td>\n",
       "      <td>60.8 %</td>\n",
       "      <td>18.5 %</td>\n",
       "    </tr>\n",
       "    <tr>\n",
       "      <th>1</th>\n",
       "      <td>2</td>\n",
       "      <td>India</td>\n",
       "      <td>1,380,004,385</td>\n",
       "      <td>0.99 %</td>\n",
       "      <td>13,586,631</td>\n",
       "      <td>464</td>\n",
       "      <td>2,973,190</td>\n",
       "      <td>-532,687</td>\n",
       "      <td>2.2402</td>\n",
       "      <td>28</td>\n",
       "      <td>35 %</td>\n",
       "      <td>17.7 %</td>\n",
       "    </tr>\n",
       "    <tr>\n",
       "      <th>2</th>\n",
       "      <td>3</td>\n",
       "      <td>United States</td>\n",
       "      <td>331,002,651</td>\n",
       "      <td>0.59 %</td>\n",
       "      <td>1,937,734</td>\n",
       "      <td>36</td>\n",
       "      <td>9,147,420</td>\n",
       "      <td>954,806</td>\n",
       "      <td>1.7764</td>\n",
       "      <td>38</td>\n",
       "      <td>82.8 %</td>\n",
       "      <td>4.2 %</td>\n",
       "    </tr>\n",
       "    <tr>\n",
       "      <th>3</th>\n",
       "      <td>4</td>\n",
       "      <td>Indonesia</td>\n",
       "      <td>273,523,615</td>\n",
       "      <td>1.07 %</td>\n",
       "      <td>2,898,047</td>\n",
       "      <td>151</td>\n",
       "      <td>1,811,570</td>\n",
       "      <td>-98,955</td>\n",
       "      <td>2.3195</td>\n",
       "      <td>30</td>\n",
       "      <td>56.4 %</td>\n",
       "      <td>3.5 %</td>\n",
       "    </tr>\n",
       "    <tr>\n",
       "      <th>4</th>\n",
       "      <td>5</td>\n",
       "      <td>Pakistan</td>\n",
       "      <td>220,892,340</td>\n",
       "      <td>2 %</td>\n",
       "      <td>4,327,022</td>\n",
       "      <td>287</td>\n",
       "      <td>770,880</td>\n",
       "      <td>-233,379</td>\n",
       "      <td>3.55</td>\n",
       "      <td>23</td>\n",
       "      <td>35.1 %</td>\n",
       "      <td>2.8 %</td>\n",
       "    </tr>\n",
       "    <tr>\n",
       "      <th>5</th>\n",
       "      <td>6</td>\n",
       "      <td>Brazil</td>\n",
       "      <td>212,559,417</td>\n",
       "      <td>0.72 %</td>\n",
       "      <td>1,509,890</td>\n",
       "      <td>25</td>\n",
       "      <td>8,358,140</td>\n",
       "      <td>21,200</td>\n",
       "      <td>1.74</td>\n",
       "      <td>33</td>\n",
       "      <td>87.6 %</td>\n",
       "      <td>2.7 %</td>\n",
       "    </tr>\n",
       "    <tr>\n",
       "      <th>6</th>\n",
       "      <td>7</td>\n",
       "      <td>Nigeria</td>\n",
       "      <td>206,139,589</td>\n",
       "      <td>2.58 %</td>\n",
       "      <td>5,175,990</td>\n",
       "      <td>226</td>\n",
       "      <td>910,770</td>\n",
       "      <td>-60,000</td>\n",
       "      <td>5.4168</td>\n",
       "      <td>18</td>\n",
       "      <td>52 %</td>\n",
       "      <td>2.6 %</td>\n",
       "    </tr>\n",
       "    <tr>\n",
       "      <th>7</th>\n",
       "      <td>8</td>\n",
       "      <td>Bangladesh</td>\n",
       "      <td>164,689,383</td>\n",
       "      <td>1.01 %</td>\n",
       "      <td>1,643,222</td>\n",
       "      <td>1,265</td>\n",
       "      <td>130,170</td>\n",
       "      <td>-369,501</td>\n",
       "      <td>2.052</td>\n",
       "      <td>28</td>\n",
       "      <td>39.4 %</td>\n",
       "      <td>2.1 %</td>\n",
       "    </tr>\n",
       "    <tr>\n",
       "      <th>8</th>\n",
       "      <td>9</td>\n",
       "      <td>Russia</td>\n",
       "      <td>145,934,462</td>\n",
       "      <td>0.04 %</td>\n",
       "      <td>62,206</td>\n",
       "      <td>9</td>\n",
       "      <td>16,376,870</td>\n",
       "      <td>182,456</td>\n",
       "      <td>1.8205</td>\n",
       "      <td>40</td>\n",
       "      <td>73.7 %</td>\n",
       "      <td>1.9 %</td>\n",
       "    </tr>\n",
       "    <tr>\n",
       "      <th>9</th>\n",
       "      <td>10</td>\n",
       "      <td>Mexico</td>\n",
       "      <td>128,932,753</td>\n",
       "      <td>1.06 %</td>\n",
       "      <td>1,357,224</td>\n",
       "      <td>66</td>\n",
       "      <td>1,943,950</td>\n",
       "      <td>-60,000</td>\n",
       "      <td>2.14</td>\n",
       "      <td>29</td>\n",
       "      <td>83.8 %</td>\n",
       "      <td>1.7 %</td>\n",
       "    </tr>\n",
       "  </tbody>\n",
       "</table>\n",
       "</div>"
      ],
      "text/plain": [
       "  Pop Rank        Country Population 2020 Yearly Change  Net Change  \\\n",
       "0        1          China   1,439,323,776        0.39 %   5,540,090   \n",
       "1        2          India   1,380,004,385        0.99 %  13,586,631   \n",
       "2        3  United States     331,002,651        0.59 %   1,937,734   \n",
       "3        4      Indonesia     273,523,615        1.07 %   2,898,047   \n",
       "4        5       Pakistan     220,892,340           2 %   4,327,022   \n",
       "5        6         Brazil     212,559,417        0.72 %   1,509,890   \n",
       "6        7        Nigeria     206,139,589        2.58 %   5,175,990   \n",
       "7        8     Bangladesh     164,689,383        1.01 %   1,643,222   \n",
       "8        9         Russia     145,934,462        0.04 %      62,206   \n",
       "9       10         Mexico     128,932,753        1.06 %   1,357,224   \n",
       "\n",
       "  People per KMSq   Land Area  Migrants Fertility Rate Median Age  \\\n",
       "0             153   9,388,211  -348,399           1.69         38   \n",
       "1             464   2,973,190  -532,687         2.2402         28   \n",
       "2              36   9,147,420   954,806         1.7764         38   \n",
       "3             151   1,811,570   -98,955         2.3195         30   \n",
       "4             287     770,880  -233,379           3.55         23   \n",
       "5              25   8,358,140    21,200           1.74         33   \n",
       "6             226     910,770   -60,000         5.4168         18   \n",
       "7           1,265     130,170  -369,501          2.052         28   \n",
       "8               9  16,376,870   182,456         1.8205         40   \n",
       "9              66   1,943,950   -60,000           2.14         29   \n",
       "\n",
       "  Urban Population World Share  \n",
       "0           60.8 %      18.5 %  \n",
       "1             35 %      17.7 %  \n",
       "2           82.8 %       4.2 %  \n",
       "3           56.4 %       3.5 %  \n",
       "4           35.1 %       2.8 %  \n",
       "5           87.6 %       2.7 %  \n",
       "6             52 %       2.6 %  \n",
       "7           39.4 %       2.1 %  \n",
       "8           73.7 %       1.9 %  \n",
       "9           83.8 %       1.7 %  "
      ]
     },
     "execution_count": 11,
     "metadata": {},
     "output_type": "execute_result"
    }
   ],
   "source": [
    "df2.head(10)"
   ]
  },
  {
   "cell_type": "markdown",
   "metadata": {},
   "source": [
    "#### Clean and process the data in desired format"
   ]
  },
  {
   "cell_type": "code",
   "execution_count": 12,
   "metadata": {},
   "outputs": [],
   "source": [
    "df2['Population 2020'] = df2['Population 2020'].str.replace(\",\",\"\")\n",
    "df2['Population 2020'] = df2['Population 2020'].astype(int)\n",
    "\n",
    "df2['Net Change'] = df2['Net Change'].str.replace(\",\",\"\")\n",
    "df2['Net Change'] = df2['Net Change'].astype(int)\n",
    "\n",
    "\n",
    "df2['Land Area'] = df2['Land Area'].str.replace(\",\",\"\")\n",
    "df2['Land Area'] = df2['Land Area'].astype(int)\n",
    "\n",
    "df2['Migrants'] = df2['Migrants'].str.replace(\",\",\"\")\n",
    "df2['Migrants'] = df2['Migrants'].replace(\" \", \"0\")\n",
    "df2['Migrants'] = df2['Migrants'].astype(int)\n",
    "\n",
    "df2['Median Age'] = df2['Median Age'].replace(\"N.A.\", \"0\")\n",
    "\n",
    "df2['Median Age'] = df2['Median Age'].astype(int)\n",
    "\n",
    "df2['Pop Rank'] = df2['Pop Rank'].astype(int)\n"
   ]
  },
  {
   "cell_type": "markdown",
   "metadata": {},
   "source": [
    "#### Merge the two dataframes based on the column which has the same value - \"Country\""
   ]
  },
  {
   "cell_type": "code",
   "execution_count": 13,
   "metadata": {},
   "outputs": [],
   "source": [
    "df_new = df.merge(df2,on=\"Country\")"
   ]
  },
  {
   "cell_type": "markdown",
   "metadata": {},
   "source": [
    "#### Check the data that is present in the newly formed dataframe, which has merged the GDP data and the population data"
   ]
  },
  {
   "cell_type": "code",
   "execution_count": 15,
   "metadata": {},
   "outputs": [
    {
     "data": {
      "text/html": [
       "<div>\n",
       "<style scoped>\n",
       "    .dataframe tbody tr th:only-of-type {\n",
       "        vertical-align: middle;\n",
       "    }\n",
       "\n",
       "    .dataframe tbody tr th {\n",
       "        vertical-align: top;\n",
       "    }\n",
       "\n",
       "    .dataframe thead th {\n",
       "        text-align: right;\n",
       "    }\n",
       "</style>\n",
       "<table border=\"1\" class=\"dataframe\">\n",
       "  <thead>\n",
       "    <tr style=\"text-align: right;\">\n",
       "      <th></th>\n",
       "      <th>0</th>\n",
       "      <th>1</th>\n",
       "    </tr>\n",
       "  </thead>\n",
       "  <tbody>\n",
       "    <tr>\n",
       "      <th>Ranking</th>\n",
       "      <td>1</td>\n",
       "      <td>2</td>\n",
       "    </tr>\n",
       "    <tr>\n",
       "      <th>Country</th>\n",
       "      <td>Qatar</td>\n",
       "      <td>Macao</td>\n",
       "    </tr>\n",
       "    <tr>\n",
       "      <th>GDP (PPP) per capita</th>\n",
       "      <td>128647</td>\n",
       "      <td>115367</td>\n",
       "    </tr>\n",
       "    <tr>\n",
       "      <th>GDP (nominal) per capita</th>\n",
       "      <td>61264</td>\n",
       "      <td>80890</td>\n",
       "    </tr>\n",
       "    <tr>\n",
       "      <th>vs. World PPP GDP per capita</th>\n",
       "      <td>752%</td>\n",
       "      <td>675%</td>\n",
       "    </tr>\n",
       "    <tr>\n",
       "      <th>Pop Rank</th>\n",
       "      <td>139</td>\n",
       "      <td>167</td>\n",
       "    </tr>\n",
       "    <tr>\n",
       "      <th>Population 2020</th>\n",
       "      <td>2881053</td>\n",
       "      <td>649335</td>\n",
       "    </tr>\n",
       "    <tr>\n",
       "      <th>Yearly Change</th>\n",
       "      <td>1.73 %</td>\n",
       "      <td>1.39 %</td>\n",
       "    </tr>\n",
       "    <tr>\n",
       "      <th>Net Change</th>\n",
       "      <td>48986</td>\n",
       "      <td>8890</td>\n",
       "    </tr>\n",
       "    <tr>\n",
       "      <th>People per KMSq</th>\n",
       "      <td>248</td>\n",
       "      <td>21,645</td>\n",
       "    </tr>\n",
       "    <tr>\n",
       "      <th>Land Area</th>\n",
       "      <td>11610</td>\n",
       "      <td>30</td>\n",
       "    </tr>\n",
       "    <tr>\n",
       "      <th>Migrants</th>\n",
       "      <td>40000</td>\n",
       "      <td>5000</td>\n",
       "    </tr>\n",
       "    <tr>\n",
       "      <th>Fertility Rate</th>\n",
       "      <td>1.8805</td>\n",
       "      <td>1.2</td>\n",
       "    </tr>\n",
       "    <tr>\n",
       "      <th>Median Age</th>\n",
       "      <td>32</td>\n",
       "      <td>39</td>\n",
       "    </tr>\n",
       "    <tr>\n",
       "      <th>Urban Population</th>\n",
       "      <td>96.2 %</td>\n",
       "      <td>N.A.</td>\n",
       "    </tr>\n",
       "    <tr>\n",
       "      <th>World Share</th>\n",
       "      <td>0 %</td>\n",
       "      <td>0 %</td>\n",
       "    </tr>\n",
       "  </tbody>\n",
       "</table>\n",
       "</div>"
      ],
      "text/plain": [
       "                                    0       1\n",
       "Ranking                             1       2\n",
       "Country                         Qatar   Macao\n",
       "GDP (PPP) per capita           128647  115367\n",
       "GDP (nominal) per capita        61264   80890\n",
       "vs. World PPP GDP per capita    752%    675% \n",
       "Pop Rank                          139     167\n",
       "Population 2020               2881053  649335\n",
       "Yearly Change                  1.73 %  1.39 %\n",
       "Net Change                      48986    8890\n",
       "People per KMSq                   248  21,645\n",
       "Land Area                       11610      30\n",
       "Migrants                        40000    5000\n",
       "Fertility Rate                 1.8805     1.2\n",
       "Median Age                         32      39\n",
       "Urban Population               96.2 %    N.A.\n",
       "World Share                       0 %     0 %"
      ]
     },
     "execution_count": 15,
     "metadata": {},
     "output_type": "execute_result"
    }
   ],
   "source": [
    "df_new.head(2).transpose()"
   ]
  },
  {
   "cell_type": "markdown",
   "metadata": {},
   "source": [
    "#### Visualize the GDP data just as before, but this time in the order of population ranking. "
   ]
  },
  {
   "cell_type": "code",
   "execution_count": 16,
   "metadata": {},
   "outputs": [
    {
     "data": {
      "image/png": "[encoded data removed]",
      "text/plain": [
       "<Figure size 720x360 with 1 Axes>"
      ]
     },
     "metadata": {
      "needs_background": "light"
     },
     "output_type": "display_data"
    }
   ],
   "source": [
    "df_temp = df_new.sort_values([\"Pop Rank\"], axis=0, \n",
    "                 ascending=True) \n",
    "gdps = df_temp['GDP (PPP) per capita'][0:20]\n",
    "countries = df_temp['Country'][0:20]\n",
    "\n",
    "plt.figure(figsize=(10,5))\n",
    "plot = sns.barplot(countries, gdps)\n",
    "\n",
    "plot.set_xticklabels(countries, rotation=90)\n",
    "\n",
    "plt.show()"
   ]
  },
  {
   "cell_type": "markdown",
   "metadata": {},
   "source": [
    "#### Save the data to a CSV file with today's timestamp. "
   ]
  },
  {
   "cell_type": "code",
   "execution_count": 18,
   "metadata": {},
   "outputs": [],
   "source": [
    "timestamp = date.today().strftime(\"%d_%m_%Y\")\n",
    "df_new.to_csv(\"Details\"+timestamp+\".csv\")"
   ]
  },
  {
   "cell_type": "code",
   "execution_count": null,
   "metadata": {},
   "outputs": [],
   "source": []
  }
 ],
 "metadata": {
  "kernelspec": {
   "display_name": "Python 3",
   "language": "python",
   "name": "python3"
  },
  "language_info": {
   "codemirror_mode": {
    "name": "ipython",
    "version": 3
   },
   "file_extension": ".py",
   "mimetype": "text/x-python",
   "name": "python",
   "nbconvert_exporter": "python",
   "pygments_lexer": "ipython3",
   "version": "3.8.3"
  }
 },
 "nbformat": 4,
 "nbformat_minor": 2
}
