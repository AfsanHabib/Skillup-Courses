{
 "cells": [
  {
   "cell_type": "code",
   "execution_count": 32,
   "metadata": {},
   "outputs": [],
   "source": [
    "import pymongo\n",
    "from pymongo import MongoClient\n",
    "client = MongoClient('mongodb://localhost:27017/')"
   ]
  },
  {
   "cell_type": "code",
   "execution_count": 33,
   "metadata": {},
   "outputs": [],
   "source": [
    "#This will create a Collection/Database called books if it doesn't already exist\n",
    "db = client['employees']"
   ]
  },
  {
   "cell_type": "code",
   "execution_count": 34,
   "metadata": {},
   "outputs": [],
   "source": [
    "employees = db.employees"
   ]
  },
  {
   "cell_type": "code",
   "execution_count": 35,
   "metadata": {},
   "outputs": [
    {
     "data": {
      "text/plain": [
       "<pymongo.results.InsertManyResult at 0x1aa95212200>"
      ]
     },
     "execution_count": 35,
     "metadata": {},
     "output_type": "execute_result"
    }
   ],
   "source": [
    "db.employees.insert_many([{\"name\": \"Jessica\", \"Department\":\"IT\",\"Salary\": 6000},\n",
    "                                 {\"name\": \"Joseph\", \"Department\":\"IT\",\"Salary\": 7000},\n",
    "                                 {\"name\": \"Alex\", \"Department\":\"Accounts\",\"Salary\": 5000},\n",
    "                                 {\"name\": \"Julie\", \"Department\":\"IT\",\"Salary\": 3000},\n",
    "                                 {\"name\": \"James\", \"Department\":\"Admin\",\"Salary\": 8000},\n",
    "                                 {\"name\": \"Jacob\", \"Department\":\"Admin\",\"Salary\": 9000},\n",
    "                                 {\"name\": \"Kevin\", \"Department\":\"IT\",\"Salary\": 6500}\n",
    "                              ])\n"
   ]
  },
  {
   "cell_type": "code",
   "execution_count": 36,
   "metadata": {},
   "outputs": [
    {
     "name": "stdout",
     "output_type": "stream",
     "text": [
      "{'_id': ObjectId('611168cd5be29b3b17657601'), 'name': 'Jessica', 'Department': 'IT', 'Salary': 6000}\n",
      "{'_id': ObjectId('611168cd5be29b3b17657602'), 'name': 'Joseph', 'Department': 'IT', 'Salary': 7000}\n",
      "{'_id': ObjectId('611168cd5be29b3b17657603'), 'name': 'Alex', 'Department': 'Accounts', 'Salary': 5000}\n",
      "{'_id': ObjectId('611168cd5be29b3b17657604'), 'name': 'Julie', 'Department': 'IT', 'Salary': 3000}\n",
      "{'_id': ObjectId('611168cd5be29b3b17657605'), 'name': 'James', 'Department': 'Admin', 'Salary': 8000}\n",
      "{'_id': ObjectId('611168cd5be29b3b17657606'), 'name': 'Jacob', 'Department': 'Admin', 'Salary': 9000}\n",
      "{'_id': ObjectId('611168cd5be29b3b17657607'), 'name': 'Kevin', 'Department': 'IT', 'Salary': 6500}\n",
      "{'_id': ObjectId('61116a085be29b3b17657609'), 'name': 'Jessica', 'Department': 'IT', 'Salary': 6000}\n",
      "{'_id': ObjectId('61116a085be29b3b1765760a'), 'name': 'Joseph', 'Department': 'IT', 'Salary': 7000}\n",
      "{'_id': ObjectId('61116a085be29b3b1765760b'), 'name': 'Alex', 'Department': 'Accounts', 'Salary': 5000}\n",
      "{'_id': ObjectId('61116a085be29b3b1765760c'), 'name': 'Julie', 'Department': 'IT', 'Salary': 3000}\n",
      "{'_id': ObjectId('61116a085be29b3b1765760d'), 'name': 'James', 'Department': 'Admin', 'Salary': 8000}\n",
      "{'_id': ObjectId('61116a085be29b3b1765760e'), 'name': 'Jacob', 'Department': 'Admin', 'Salary': 9000}\n",
      "{'_id': ObjectId('61116a085be29b3b1765760f'), 'name': 'Kevin', 'Department': 'IT', 'Salary': 6500}\n",
      "{'_id': ObjectId('61116a565be29b3b17657611'), 'name': 'Jessica', 'Department': 'IT', 'Salary': 6000}\n",
      "{'_id': ObjectId('61116a565be29b3b17657612'), 'name': 'Joseph', 'Department': 'IT', 'Salary': 7000}\n",
      "{'_id': ObjectId('61116a565be29b3b17657613'), 'name': 'Alex', 'Department': 'Accounts', 'Salary': 5000}\n",
      "{'_id': ObjectId('61116a565be29b3b17657614'), 'name': 'Julie', 'Department': 'IT', 'Salary': 3000}\n",
      "{'_id': ObjectId('61116a565be29b3b17657615'), 'name': 'James', 'Department': 'Admin', 'Salary': 8000}\n",
      "{'_id': ObjectId('61116a565be29b3b17657616'), 'name': 'Jacob', 'Department': 'Admin', 'Salary': 9000}\n",
      "{'_id': ObjectId('61116a565be29b3b17657617'), 'name': 'Kevin', 'Department': 'IT', 'Salary': 6500}\n"
     ]
    }
   ],
   "source": [
    "for employee in employees.find():\n",
    "  print(employee)"
   ]
  },
  {
   "cell_type": "code",
   "execution_count": 37,
   "metadata": {},
   "outputs": [],
   "source": [
    "#To get the total number of records in the collection\n",
    "pipeline = [\n",
    "     {\"$group\": {\"_id\": None,\"Count\": {\"$sum\": 1}}}]\n",
    "grp_employees = db.employees.aggregate(pipeline)\n"
   ]
  },
  {
   "cell_type": "code",
   "execution_count": 38,
   "metadata": {},
   "outputs": [
    {
     "name": "stdout",
     "output_type": "stream",
     "text": [
      "{'_id': None, 'Count': 21}\n"
     ]
    }
   ],
   "source": [
    "for employee in grp_employees:\n",
    "  print(employee)"
   ]
  },
  {
   "cell_type": "code",
   "execution_count": 39,
   "metadata": {},
   "outputs": [],
   "source": [
    "#To group by department and get the total salary for each department\n",
    "pipeline = [\n",
    "     {\"$group\": {\"_id\": \"$Department\",\"Salary\": {\"$sum\": \"$Salary\"}}}]\n",
    "grp_employees = db.employees.aggregate(pipeline)\n"
   ]
  },
  {
   "cell_type": "code",
   "execution_count": 40,
   "metadata": {},
   "outputs": [
    {
     "name": "stdout",
     "output_type": "stream",
     "text": [
      "{'_id': 'IT', 'Salary': 67500}\n",
      "{'_id': 'Accounts', 'Salary': 15000}\n",
      "{'_id': 'Admin', 'Salary': 51000}\n"
     ]
    }
   ],
   "source": [
    "for employee in grp_employees:\n",
    "  print(employee)"
   ]
  },
  {
   "cell_type": "code",
   "execution_count": 41,
   "metadata": {},
   "outputs": [],
   "source": [
    "#To group by department and get the average salary for each department\n",
    "pipeline = [\n",
    "     {\"$group\": {\"_id\": \"$Department\",\"Salary\": {\"$avg\": \"$Salary\"}}}]\n",
    "grp_employees = db.employees.aggregate(pipeline)\n"
   ]
  },
  {
   "cell_type": "code",
   "execution_count": 42,
   "metadata": {},
   "outputs": [
    {
     "name": "stdout",
     "output_type": "stream",
     "text": [
      "IT \t Average Salary  5625.0\n",
      "Accounts \t Average Salary  5000.0\n",
      "Admin \t Average Salary  8500.0\n"
     ]
    }
   ],
   "source": [
    "for employee in grp_employees:\n",
    "  print(employee['_id'],\"\\t Average Salary \",employee['Salary'])"
   ]
  },
  {
   "cell_type": "code",
   "execution_count": 43,
   "metadata": {},
   "outputs": [],
   "source": [
    "#To get the employees with the lowest salary\n",
    "pipeline = [\n",
    "     {\"$group\": {\"_id\": None ,\"Minimum Salary\": {\"$min\": \"$Salary\"}}}]\n",
    "grp_employees = db.employees.aggregate(pipeline)\n"
   ]
  },
  {
   "cell_type": "code",
   "execution_count": 44,
   "metadata": {},
   "outputs": [
    {
     "name": "stdout",
     "output_type": "stream",
     "text": [
      "Name  Julie \n",
      "Salary  3000\n",
      "Name  Julie \n",
      "Salary  3000\n",
      "Name  Julie \n",
      "Salary  3000\n"
     ]
    }
   ],
   "source": [
    "for employee in grp_employees:\n",
    "    for spec_emp in employees.find({\"Salary\":employee['Minimum Salary']}):\n",
    "        print(\"Name \",spec_emp['name'],\"\\nSalary \",spec_emp['Salary'])\n"
   ]
  },
  {
   "cell_type": "code",
   "execution_count": null,
   "metadata": {},
   "outputs": [],
   "source": []
  }
 ],
 "metadata": {
  "kernelspec": {
   "display_name": "Python 3",
   "language": "python",
   "name": "python3"
  },
  "language_info": {
   "codemirror_mode": {
    "name": "ipython",
    "version": 3
   },
   "file_extension": ".py",
   "mimetype": "text/x-python",
   "name": "python",
   "nbconvert_exporter": "python",
   "pygments_lexer": "ipython3",
   "version": "3.8.3"
  }
 },
 "nbformat": 4,
 "nbformat_minor": 4
}
