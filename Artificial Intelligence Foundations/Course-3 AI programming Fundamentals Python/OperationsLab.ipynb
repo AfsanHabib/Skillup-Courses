{
 "cells": [
  {
   "cell_type": "markdown",
   "metadata": {},
   "source": [
    "## Instructions\n",
    "Run each cell to understand how each of the operation works. Try to change the values or add new cells with the `Insert` option in the menu on top and try to extend your understanding and challenge yourself.\n",
    "\n",
    "### Arithmetic Operations"
   ]
  },
  {
   "cell_type": "code",
   "execution_count": null,
   "metadata": {},
   "outputs": [],
   "source": [
    "#Declare the variables to use for the operations\n",
    "x = 10\n",
    "y = 3"
   ]
  },
  {
   "cell_type": "code",
   "execution_count": null,
   "metadata": {},
   "outputs": [],
   "source": [
    "print(\"The result of addition operation is \",x+y)"
   ]
  },
  {
   "cell_type": "code",
   "execution_count": null,
   "metadata": {},
   "outputs": [],
   "source": [
    "print(\"The result of subtraction operation is \",x-y)"
   ]
  },
  {
   "cell_type": "code",
   "execution_count": null,
   "metadata": {},
   "outputs": [],
   "source": [
    "print(\"The result of multiplication operation is \",x*y)"
   ]
  },
  {
   "cell_type": "code",
   "execution_count": null,
   "metadata": {},
   "outputs": [],
   "source": [
    "print(\"The result of division operation is \",x/y)"
   ]
  },
  {
   "cell_type": "code",
   "execution_count": null,
   "metadata": {},
   "outputs": [],
   "source": [
    "print(\"The result of Floor division operation is \",x//y)"
   ]
  },
  {
   "cell_type": "markdown",
   "metadata": {},
   "source": [
    "Observe the result of the floor divison in the previous step"
   ]
  },
  {
   "cell_type": "code",
   "execution_count": null,
   "metadata": {},
   "outputs": [],
   "source": [
    "print(\"The result of exponentiation operation is \",x**y)"
   ]
  },
  {
   "cell_type": "markdown",
   "metadata": {},
   "source": [
    "### Comparison Operations"
   ]
  },
  {
   "cell_type": "code",
   "execution_count": null,
   "metadata": {},
   "outputs": [],
   "source": [
    "print(\"The output of the comparison 4>3 is \",4>3)\n",
    "print(\"The output of the comparison 3>4 is \",3>4)"
   ]
  },
  {
   "cell_type": "code",
   "execution_count": null,
   "metadata": {},
   "outputs": [],
   "source": [
    "print(\"The output of the comparison 4<3 is \",4<3)\n",
    "print(\"The output of the comparison 3<4 is \",3<4)"
   ]
  },
  {
   "cell_type": "code",
   "execution_count": null,
   "metadata": {},
   "outputs": [],
   "source": [
    "print(\"The output of the comparison 3 == 3 is \",3 == 3)\n",
    "print(\"The output of the comparison 3 == 4 is \",3 == 4)"
   ]
  },
  {
   "cell_type": "code",
   "execution_count": null,
   "metadata": {},
   "outputs": [],
   "source": [
    "print(\"The output of the comparison 3 >= 3 is \",3 >= 3)\n",
    "print(\"The output of the comparison 3 >= 2 is \",3 >= 2)\n",
    "print(\"The output of the comparison 3 >= 5 is \",3 >= 5)\n"
   ]
  },
  {
   "cell_type": "code",
   "execution_count": null,
   "metadata": {},
   "outputs": [],
   "source": [
    "print(\"The output of the comparison 3 <= 3 is \",3 <= 3)\n",
    "print(\"The output of the comparison 3 <= 5 is \",3 <= 5 )\n",
    "print(\"The output of the comparison 3 <= 2 is \",3 <= 2)\n"
   ]
  },
  {
   "cell_type": "code",
   "execution_count": null,
   "metadata": {},
   "outputs": [],
   "source": [
    "print(\"The output of the comparison 3 != 4 is \",3 != 4)\n",
    "print(\"The output of the comparison 3 != 3 is \",3 != 3)\n"
   ]
  },
  {
   "cell_type": "markdown",
   "metadata": {},
   "source": [
    "### Logical Operators"
   ]
  },
  {
   "cell_type": "code",
   "execution_count": null,
   "metadata": {},
   "outputs": [],
   "source": [
    "#both true\n",
    "print(\"The output of the 3>2 and 4>1 is \",3>2 and 4>1)\n",
    "\n",
    "#First false, Second true\n",
    "print(\"The output of the 3<2 and 4>1 is \",3<2 and 4>1)\n",
    "\n",
    "#Second false, First true\n",
    "print(\"The output of the 3>2 and 4<1 is \",3>2 and 4<1)\n"
   ]
  },
  {
   "cell_type": "code",
   "execution_count": null,
   "metadata": {},
   "outputs": [],
   "source": [
    "#both true\n",
    "print(\"The output of the 3>2 or 4>1 is \",3>2 or 4>1)\n",
    "\n",
    "#First false, Second true\n",
    "print(\"The output of the 3<2 or 4>1 is \",3<2 or 4>1)\n",
    "\n",
    "#Second false, First true\n",
    "print(\"The output of the 3>2 or 4<1 is \",3>2 or 4<1)\n",
    "\n",
    "#Both false\n",
    "print(\"The output of the 3<2 or 4<1 is \",3<2 or 4<1)\n",
    "\n"
   ]
  },
  {
   "cell_type": "code",
   "execution_count": null,
   "metadata": {},
   "outputs": [],
   "source": [
    "print(\"The output of the not(True) \",not(True))\n",
    "print(\"The output of the not(False) \",not(False))\n",
    "\n"
   ]
  },
  {
   "cell_type": "code",
   "execution_count": null,
   "metadata": {},
   "outputs": [],
   "source": [
    "userInput = int(input(\"Input a number\"))\n",
    "\n",
    "print(\"The output of the not(userInput>5) \",not(userInput>5))\n"
   ]
  },
  {
   "cell_type": "markdown",
   "metadata": {},
   "source": [
    "### This is the end of this lab"
   ]
  }
 ],
 "metadata": {
  "kernelspec": {
   "display_name": "Python 3",
   "language": "python",
   "name": "python3"
  },
  "language_info": {
   "codemirror_mode": {
    "name": "ipython",
    "version": 3
   },
   "file_extension": ".py",
   "mimetype": "text/x-python",
   "name": "python",
   "nbconvert_exporter": "python",
   "pygments_lexer": "ipython3",
   "version": "3.8.3"
  }
 },
 "nbformat": 4,
 "nbformat_minor": 4
}
