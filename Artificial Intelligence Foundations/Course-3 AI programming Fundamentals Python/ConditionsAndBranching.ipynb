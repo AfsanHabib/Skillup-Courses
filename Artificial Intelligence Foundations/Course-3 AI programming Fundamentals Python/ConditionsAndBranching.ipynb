{
 "cells": [
  {
   "cell_type": "markdown",
   "metadata": {},
   "source": [
    "### Conditions and branching"
   ]
  },
  {
   "cell_type": "code",
   "execution_count": null,
   "metadata": {},
   "outputs": [],
   "source": [
    "userInput = input(\"Enter a string \")\n",
    "\n",
    "if(len(userInput) > 5):\n",
    "    print(\"The String is too long\")\n",
    "    \n",
    "print(\"The string you input is \",userInput)"
   ]
  },
  {
   "cell_type": "code",
   "execution_count": null,
   "metadata": {},
   "outputs": [],
   "source": [
    "userInput = input(\"Enter a string \")\n",
    "\n",
    "if(len(userInput) > 5):\n",
    "    print(\"The string is too long\")\n",
    "else:\n",
    "    print(\"The string is just right size\")\n",
    "    \n"
   ]
  },
  {
   "cell_type": "code",
   "execution_count": null,
   "metadata": {},
   "outputs": [],
   "source": [
    "userInput = input(\"Enter a string \")\n",
    "\n",
    "if(len(userInput) > 10):\n",
    "    print(\"The string is too long\")\n",
    "elif (len(userInput) < 5):\n",
    "    print(\"The string is too short\")\n",
    "else:\n",
    "    print(\"The string you input is just as expected\")\n",
    "    \n"
   ]
  },
  {
   "cell_type": "markdown",
   "metadata": {},
   "source": [
    "Get the user to input age as a number. If the number is less than 18, print **Children not allowed**. If the number is above 30, print **This show might be too boring for you**. If the number is between 18 to 30, both inclusive, print **Welcome to the show**"
   ]
  },
  {
   "cell_type": "code",
   "execution_count": null,
   "metadata": {},
   "outputs": [],
   "source": []
  },
  {
   "cell_type": "markdown",
   "metadata": {},
   "source": [
    "Double-click __here__ for the solution.\n",
    "\n",
    "<!-- Solution:\n",
    "\n",
    "age = int(input(\"Enter your age as a number \"))\n",
    "\n",
    "if (age < 18):\n",
    "    print(\"Children not allowed\")\n",
    "elif (age > 30):\n",
    "    print(\"This show might be too boring for you\")\n",
    "else:\n",
    "    print(\"Welcome to the show\")\n",
    "-->"
   ]
  }
 ],
 "metadata": {
  "kernelspec": {
   "display_name": "Python 3",
   "language": "python",
   "name": "python3"
  },
  "language_info": {
   "codemirror_mode": {
    "name": "ipython",
    "version": 3
   },
   "file_extension": ".py",
   "mimetype": "text/x-python",
   "name": "python",
   "nbconvert_exporter": "python",
   "pygments_lexer": "ipython3",
   "version": "3.8.3"
  }
 },
 "nbformat": 4,
 "nbformat_minor": 4
}
