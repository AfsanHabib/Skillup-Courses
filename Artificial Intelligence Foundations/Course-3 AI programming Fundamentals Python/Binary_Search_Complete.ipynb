{
 "cells": [
  {
   "cell_type": "code",
   "execution_count": 1,
   "metadata": {},
   "outputs": [],
   "source": [
    "#Defines the type of search and the structure of the array\n",
    "def search_binary(sorted_array, target):\n",
    "    left = 0\n",
    "    right = len(sorted_array) - 1\n",
    "    while left <= right:\n",
    "        midpoint = left + (right - left) // 2\n",
    "        current = sorted_array[midpoint]\n",
    "        if current == target:\n",
    "            return midpoint\n",
    "        else:\n",
    "            if target < current:\n",
    "                right = midpoint - 1\n",
    "            else:\n",
    "                left = midpoint + 1\n",
    "    return None"
   ]
  },
  {
   "cell_type": "code",
   "execution_count": 2,
   "metadata": {},
   "outputs": [],
   "source": [
    "#Defines the number of values\n",
    "target = 5"
   ]
  },
  {
   "cell_type": "code",
   "execution_count": 3,
   "metadata": {},
   "outputs": [],
   "source": [
    "#Sorts the vales\n",
    "sorted_array = [0, 1, 2, 3, 4, 5]"
   ]
  },
  {
   "cell_type": "code",
   "execution_count": 4,
   "metadata": {},
   "outputs": [],
   "source": [
    "#Conducts a binar search\n",
    "result = search_binary(sorted_array, target)"
   ]
  },
  {
   "cell_type": "code",
   "execution_count": 5,
   "metadata": {},
   "outputs": [
    {
     "name": "stdout",
     "output_type": "stream",
     "text": [
      "Value 5 found at position 6 using binary search\n"
     ]
    }
   ],
   "source": [
    "#Returns the results\n",
    "if result is not None:\n",
    "    print('Value {} found at position {} using binary search'.format(target, result+1))\n",
    "else:\n",
    "    print('Not found')"
   ]
  },
  {
   "cell_type": "code",
   "execution_count": null,
   "metadata": {},
   "outputs": [],
   "source": []
  }
 ],
 "metadata": {
  "kernelspec": {
   "display_name": "Python 3",
   "language": "python",
   "name": "python3"
  },
  "language_info": {
   "codemirror_mode": {
    "name": "ipython",
    "version": 3
   },
   "file_extension": ".py",
   "mimetype": "text/x-python",
   "name": "python",
   "nbconvert_exporter": "python",
   "pygments_lexer": "ipython3",
   "version": "3.8.5"
  }
 },
 "nbformat": 4,
 "nbformat_minor": 4
}
