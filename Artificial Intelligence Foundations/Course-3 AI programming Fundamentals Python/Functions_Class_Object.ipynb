{
 "cells": [
  {
   "cell_type": "markdown",
   "metadata": {},
   "source": [
    "### Functions"
   ]
  },
  {
   "cell_type": "markdown",
   "metadata": {},
   "source": [
    "#### Built-in function"
   ]
  },
  {
   "cell_type": "code",
   "execution_count": null,
   "metadata": {},
   "outputs": [],
   "source": [
    "str1 = input(\"Enter a string \")\n",
    "\n",
    "#len is a built-in function. Use the len function to find the length of the string\n",
    "\n",
    "print(\"The length of the String is \",len(str1))\n"
   ]
  },
  {
   "cell_type": "markdown",
   "metadata": {},
   "source": [
    "#### User-defined function"
   ]
  },
  {
   "cell_type": "code",
   "execution_count": null,
   "metadata": {},
   "outputs": [],
   "source": [
    "def revString(str1):\n",
    "    '''Reverse the string that is passed as a parameter'''\n",
    "    revstr = \"\"\n",
    "    for charInStr in str1:\n",
    "        revstr = charInStr + revstr\n",
    "    return revstr\n",
    "\n",
    "userInput = input(\"Enter a string to reverse \")\n",
    "print(revString(userInput))"
   ]
  },
  {
   "cell_type": "markdown",
   "metadata": {},
   "source": [
    "### Scope of the variables"
   ]
  },
  {
   "cell_type": "code",
   "execution_count": null,
   "metadata": {},
   "outputs": [],
   "source": [
    "def revString(str1):\n",
    "    '''Reverse the string that is passed as a parameter'''\n",
    "    revstr = \"\"\n",
    "    for charInStr in str1:\n",
    "        revstr = charInStr + revstr\n",
    "    str1 = revstr\n",
    "    print(\"str1 inside the function \",str1)    \n",
    "    return str1\n",
    "\n",
    "str1 = input(\"Enter a string to reverse \")\n",
    "print(\"Output of the function \",revString(userInput))\n",
    "print(\"str1 outside the function \",str1)"
   ]
  },
  {
   "cell_type": "markdown",
   "metadata": {},
   "source": [
    "### Class"
   ]
  },
  {
   "cell_type": "code",
   "execution_count": null,
   "metadata": {},
   "outputs": [],
   "source": [
    "class Person:\n",
    "    \n",
    "    #constructor which is invoked when an instance of the class is created\n",
    "    def __init__(self,name):\n",
    "        self.name = name\n",
    "    \n",
    "    # A class method which prints a greeting to the user. \n",
    "    #self paramter indicates that it is a class method\n",
    "    def greetings(self):\n",
    "        print(\"Hello, my name is \",self.name)\n",
    "\n"
   ]
  },
  {
   "cell_type": "markdown",
   "metadata": {},
   "source": [
    "### Create an object of the class Person"
   ]
  },
  {
   "cell_type": "code",
   "execution_count": null,
   "metadata": {},
   "outputs": [],
   "source": [
    "p = Person(\"Alex\")\n",
    "\n",
    "#invoke the class method on the object\n",
    "p.greetings()"
   ]
  }
 ],
 "metadata": {
  "kernelspec": {
   "display_name": "Python 3",
   "language": "python",
   "name": "python3"
  },
  "language_info": {
   "codemirror_mode": {
    "name": "ipython",
    "version": 3
   },
   "file_extension": ".py",
   "mimetype": "text/x-python",
   "name": "python",
   "nbconvert_exporter": "python",
   "pygments_lexer": "ipython3",
   "version": "3.7.6"
  }
 },
 "nbformat": 4,
 "nbformat_minor": 4
}
