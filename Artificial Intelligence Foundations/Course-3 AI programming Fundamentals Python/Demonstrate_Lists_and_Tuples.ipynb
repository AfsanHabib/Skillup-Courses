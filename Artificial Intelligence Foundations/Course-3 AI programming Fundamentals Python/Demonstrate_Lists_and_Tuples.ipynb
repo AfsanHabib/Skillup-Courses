{
 "cells": [
  {
   "cell_type": "code",
   "execution_count": 1,
   "metadata": {
    "colab": {},
    "colab_type": "code",
    "id": "IQV-A7l1WwwQ"
   },
   "outputs": [],
   "source": [
    "mytuple = (1,2,3,4)"
   ]
  },
  {
   "cell_type": "code",
   "execution_count": 2,
   "metadata": {
    "colab": {
     "base_uri": "https://localhost:8080/",
     "height": 51
    },
    "colab_type": "code",
    "id": "C88k9RkeW0LD",
    "outputId": "ebde1fff-20da-4a19-8771-e4d5043e34ab"
   },
   "outputs": [
    {
     "name": "stdout",
     "output_type": "stream",
     "text": [
      "0\n",
      "1\n"
     ]
    }
   ],
   "source": [
    "print(mytuple.count(6))\n",
    "print(mytuple.count(2))"
   ]
  },
  {
   "cell_type": "code",
   "execution_count": 3,
   "metadata": {
    "colab": {
     "base_uri": "https://localhost:8080/",
     "height": 34
    },
    "colab_type": "code",
    "id": "P_77LxRSW8fA",
    "outputId": "e5737b59-f891-443e-d53e-5a559e8303ec"
   },
   "outputs": [
    {
     "data": {
      "text/plain": [
       "1"
      ]
     },
     "execution_count": 3,
     "metadata": {},
     "output_type": "execute_result"
    }
   ],
   "source": [
    "mytuple.index(2)"
   ]
  },
  {
   "cell_type": "code",
   "execution_count": 4,
   "metadata": {
    "colab": {
     "base_uri": "https://localhost:8080/",
     "height": 164
    },
    "colab_type": "code",
    "id": "8dVXl-yvXiX5",
    "outputId": "74d0663b-46b3-49c5-fce7-4e77a0bb0e8c"
   },
   "outputs": [
    {
     "ename": "ValueError",
     "evalue": "tuple.index(x): x not in tuple",
     "output_type": "error",
     "traceback": [
      "\u001b[1;31m---------------------------------------------------------------------------\u001b[0m",
      "\u001b[1;31mValueError\u001b[0m                                Traceback (most recent call last)",
      "\u001b[1;32m<ipython-input-4-78b93bfb282c>\u001b[0m in \u001b[0;36m<module>\u001b[1;34m\u001b[0m\n\u001b[1;32m----> 1\u001b[1;33m \u001b[0mmytuple\u001b[0m\u001b[1;33m.\u001b[0m\u001b[0mindex\u001b[0m\u001b[1;33m(\u001b[0m\u001b[1;36m7\u001b[0m\u001b[1;33m)\u001b[0m\u001b[1;33m\u001b[0m\u001b[1;33m\u001b[0m\u001b[0m\n\u001b[0m",
      "\u001b[1;31mValueError\u001b[0m: tuple.index(x): x not in tuple"
     ]
    }
   ],
   "source": [
    "mytuple.index(7)"
   ]
  },
  {
   "cell_type": "code",
   "execution_count": 7,
   "metadata": {
    "colab": {},
    "colab_type": "code",
    "id": "EEhTwjr8Xl44"
   },
   "outputs": [],
   "source": [
    "myset = {1,2,3,4,5}"
   ]
  },
  {
   "cell_type": "markdown",
   "metadata": {
    "colab_type": "text",
    "id": "wEJTQcJ7YFIf"
   },
   "source": [
    "#### Add an element to the cell"
   ]
  },
  {
   "cell_type": "code",
   "execution_count": 9,
   "metadata": {
    "colab": {
     "base_uri": "https://localhost:8080/",
     "height": 34
    },
    "colab_type": "code",
    "id": "NSf0esRfX5wy",
    "outputId": "220e73a8-9b11-4784-8b19-e6c9ed916c18"
   },
   "outputs": [
    {
     "name": "stdout",
     "output_type": "stream",
     "text": [
      "{1, 2, 3, 4, 5, 6}\n"
     ]
    }
   ],
   "source": [
    "myset.add(6)\n",
    "print(myset)"
   ]
  },
  {
   "cell_type": "markdown",
   "metadata": {
    "colab_type": "text",
    "id": "0qfESeyAYml_"
   },
   "source": [
    "#### Update method on set is similar to the extend method in list. The difference is that if there are duplicate elements, one one occurence is added to the original set."
   ]
  },
  {
   "cell_type": "code",
   "execution_count": 10,
   "metadata": {
    "colab": {
     "base_uri": "https://localhost:8080/",
     "height": 34
    },
    "colab_type": "code",
    "id": "LGONIEdcYDB5",
    "outputId": "053c9fcd-79e6-4752-a2fd-9ce4d3f0dcd2"
   },
   "outputs": [
    {
     "data": {
      "text/plain": [
       "{1, 2, 3, 4, 5, 6, 7, 8}"
      ]
     },
     "execution_count": 10,
     "metadata": {
      "tags": []
     },
     "output_type": "execute_result"
    }
   ],
   "source": [
    "myset2 = {4,5,6,7,8}\n",
    "myset.update(myset2)\n",
    "myset"
   ]
  },
  {
   "cell_type": "code",
   "execution_count": 11,
   "metadata": {
    "colab": {
     "base_uri": "https://localhost:8080/",
     "height": 34
    },
    "colab_type": "code",
    "id": "Y8KB6cvCYjQL",
    "outputId": "0b089d57-6e68-4685-e8bd-06efdb1587df"
   },
   "outputs": [
    {
     "data": {
      "text/plain": [
       "{1, 2, 3, 4, 5, 6, 7, 8, 9, 10}"
      ]
     },
     "execution_count": 11,
     "metadata": {
      "tags": []
     },
     "output_type": "execute_result"
    }
   ],
   "source": [
    "mylist = {1,2,9,10}\n",
    "myset.update(mylist)\n",
    "myset"
   ]
  },
  {
   "cell_type": "code",
   "execution_count": 27,
   "metadata": {
    "colab": {
     "base_uri": "https://localhost:8080/",
     "height": 85
    },
    "colab_type": "code",
    "id": "ZmTBrLMlG2Ig",
    "outputId": "a6a9b54a-936b-4a6a-89b9-d814c83454a9"
   },
   "outputs": [
    {
     "name": "stdout",
     "output_type": "stream",
     "text": [
      "setA union setB {1, 2, 3, 4, 5, 6, 7, 8, 9, 10, 12, 14}\n",
      "setA intersection setB {2, 4, 6, 8, 10}\n",
      "setA difference setB {1, 3, 5, 7, 9}\n",
      "Is setC a subset of setA?  True\n"
     ]
    }
   ],
   "source": [
    "setA = {1,2,3,4,5,6,7,8,9,10}\n",
    "setB = {2,4,6,8,10,12,14}\n",
    "\n",
    "print(\"setA union setB\",setA.union(setB))\n",
    "print(\"setA intersection setB\",setA.intersection(setB))\n",
    "print(\"setA difference setB\",setA.difference(setB))\n",
    "\n",
    "\n",
    "setC = {2,3,5,7}\n",
    "\n",
    "print(\"Is setC a subset of setA? \",setC.issubset(setA))\n"
   ]
  },
  {
   "cell_type": "code",
   "execution_count": 12,
   "metadata": {
    "colab": {},
    "colab_type": "code",
    "id": "yQYjgQzqYwAk"
   },
   "outputs": [],
   "source": [
    "\n",
    "mydict = {1:\"one\",2:\"two\",3:\"three\"}"
   ]
  },
  {
   "cell_type": "code",
   "execution_count": 19,
   "metadata": {
    "colab": {
     "base_uri": "https://localhost:8080/",
     "height": 68
    },
    "colab_type": "code",
    "id": "op7xMGhK_-wu",
    "outputId": "793d1675-17e5-4eb4-b191-50dcf6a1a776"
   },
   "outputs": [
    {
     "name": "stdout",
     "output_type": "stream",
     "text": [
      "1  -  one\n",
      "2  -  two\n",
      "3  -  three\n"
     ]
    }
   ],
   "source": [
    "for key in mydict.keys():\n",
    "  print(key,\" - \",mydict[key])"
   ]
  },
  {
   "cell_type": "code",
   "execution_count": 20,
   "metadata": {
    "colab": {
     "base_uri": "https://localhost:8080/",
     "height": 68
    },
    "colab_type": "code",
    "id": "ZyTufx6aAKgq",
    "outputId": "cf909265-fa25-4862-f3c4-47a5480a342d"
   },
   "outputs": [
    {
     "name": "stdout",
     "output_type": "stream",
     "text": [
      "(1, 'one')\n",
      "(2, 'two')\n",
      "(3, 'three')\n"
     ]
    }
   ],
   "source": [
    "for item in mydict.items():\n",
    "  print(item)"
   ]
  },
  {
   "cell_type": "code",
   "execution_count": 16,
   "metadata": {
    "colab": {
     "base_uri": "https://localhost:8080/",
     "height": 51
    },
    "colab_type": "code",
    "id": "3O8MnFoOb_Ft",
    "outputId": "107811de-199e-4d3c-acee-7015408dbcc7"
   },
   "outputs": [
    {
     "name": "stdout",
     "output_type": "stream",
     "text": [
      "{1: None, 2: None, 3: None, 4: None, 5: None, 6: None}\n",
      "{1: 0, 2: 0, 3: 0, 4: 0, 5: 0, 6: 0}\n"
     ]
    }
   ],
   "source": [
    "mylist1 = [1,2,3,4,5,6]\n",
    "\n",
    "#Creates a dictionary mapping the keys in the collection onto None\n",
    "print(mydict.fromkeys(mylist1))\n",
    "\n",
    "#Creates a dictionary mapping the keys on the the value passed as second parameter\n",
    "print(mydict.fromkeys(mylist1,0))"
   ]
  },
  {
   "cell_type": "code",
   "execution_count": 21,
   "metadata": {
    "colab": {},
    "colab_type": "code",
    "id": "xlUGfeyFd0v-"
   },
   "outputs": [],
   "source": [
    "mydict2 = mydict.copy()"
   ]
  },
  {
   "cell_type": "code",
   "execution_count": 22,
   "metadata": {
    "colab": {},
    "colab_type": "code",
    "id": "0OKnb_1tDjUg"
   },
   "outputs": [],
   "source": [
    "mydict2[\"newkey\"] = \"newvalue\""
   ]
  },
  {
   "cell_type": "code",
   "execution_count": 23,
   "metadata": {
    "colab": {
     "base_uri": "https://localhost:8080/",
     "height": 51
    },
    "colab_type": "code",
    "id": "Fs4CY8LjDqAQ",
    "outputId": "2675355b-036c-429f-94c7-0ed410a002c9"
   },
   "outputs": [
    {
     "name": "stdout",
     "output_type": "stream",
     "text": [
      "mydict  {1: 'one', 2: 'two', 3: 'three'}\n",
      "mydict2  {1: 'one', 2: 'two', 3: 'three', 'newkey': 'newvalue'}\n"
     ]
    }
   ],
   "source": [
    "print(\"mydict \",mydict)\n",
    "print(\"mydict2 \",mydict2)"
   ]
  },
  {
   "cell_type": "code",
   "execution_count": null,
   "metadata": {
    "colab": {},
    "colab_type": "code",
    "id": "xh8INV-IEDoy"
   },
   "outputs": [],
   "source": []
  }
 ],
 "metadata": {
  "colab": {
   "name": "Untitled14.ipynb",
   "provenance": []
  },
  "kernelspec": {
   "display_name": "Python 3",
   "language": "python",
   "name": "python3"
  },
  "language_info": {
   "codemirror_mode": {
    "name": "ipython",
    "version": 3
   },
   "file_extension": ".py",
   "mimetype": "text/x-python",
   "name": "python",
   "nbconvert_exporter": "python",
   "pygments_lexer": "ipython3",
   "version": "3.8.3"
  }
 },
 "nbformat": 4,
 "nbformat_minor": 1
}
